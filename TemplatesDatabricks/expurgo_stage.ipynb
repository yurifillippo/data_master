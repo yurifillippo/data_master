{
 "cells": [
  {
   "cell_type": "code",
   "execution_count": 0,
   "metadata": {
    "application/vnd.databricks.v1+cell": {
     "cellMetadata": {},
     "inputWidgets": {},
     "nuid": "b91ee135-dfd6-4ee1-b84f-225a71b8ea41",
     "showTitle": false,
     "tableResultSettingsMap": {},
     "title": ""
    }
   },
   "outputs": [],
   "source": [
    "import logging"
   ]
  },
  {
   "cell_type": "code",
   "execution_count": 0,
   "metadata": {
    "application/vnd.databricks.v1+cell": {
     "cellMetadata": {},
     "inputWidgets": {},
     "nuid": "510cc3cc-fc63-421e-8261-1511955aff4c",
     "showTitle": false,
     "tableResultSettingsMap": {},
     "title": ""
    }
   },
   "outputs": [],
   "source": [
    "# Autenticator\n",
    "def autenticator(storage_account_key, logger):\n",
    "    try:\n",
    "        # Configure a credencial no spark\n",
    "        spark.conf.set(f\"fs.azure.account.key.{storage_account_name}.dfs.core.windows.net\", storage_account_key)\n",
    "\n",
    "        return logger.info(f\"Authentication carried out successfully\")\n",
    "    \n",
    "    except ValueError as e:\n",
    "        return logger.error(f\"Authentication failed: {e}\")\n",
    "\n",
    "#List and delete\n",
    "def list_and_delete_files(container, storage_account_name, path, logger):\n",
    "    try:\n",
    "        # Listar arquivos\n",
    "        files_df = spark.read.format(\"binaryFile\").load(path)\n",
    "        files_list = files_df.select(\"path\").rdd.flatMap(lambda x: x).collect()\n",
    "        \n",
    "        if not files_list:\n",
    "            logger.info(\"No files found to delete.\")\n",
    "            return\n",
    "        \n",
    "        logger.info(f\"Files found: {files_list}\")\n",
    "        \n",
    "        # Apagar arquivos\n",
    "        for file_path in files_list:\n",
    "            if dbutils.fs.ls(file_path):\n",
    "                dbutils.fs.rm(file_path, True)\n",
    "                logger.info(f\"Deleted file: {file_path}\")\n",
    "        \n",
    "    except Exception as e:\n",
    "        logger.error(f\"Error while listing or deleting files: {e}\")\n"
   ]
  },
  {
   "cell_type": "code",
   "execution_count": 0,
   "metadata": {
    "application/vnd.databricks.v1+cell": {
     "cellMetadata": {
      "byteLimit": 2048000,
      "rowLimit": 10000
     },
     "inputWidgets": {},
     "nuid": "91ae720e-c970-49a7-bea0-0d8399786739",
     "showTitle": false,
     "tableResultSettingsMap": {},
     "title": ""
    }
   },
   "outputs": [],
   "source": [
    "# Configurar logger\n",
    "logger = logging.getLogger(\"ExpurgoStageBlobStorage\")\n",
    "logger.setLevel(logging.INFO)\n",
    "ch = logging.StreamHandler()\n",
    "ch.setLevel(logging.INFO)\n",
    "formatter = logging.Formatter('%(asctime)s - %(name)s - %(levelname)s - %(message)s')\n",
    "ch.setFormatter(formatter)\n",
    "logger.addHandler(ch)\n",
    "\n",
    "# Defina o nome do contêiner e o nome da conta de armazenamento\n",
    "storage_account_name = \"stagedatamaster\"\n",
    "sas_token = dbutils.secrets.get(scope=\"storage_datamaster\", key=\"data_master\")\n",
    "storage_account_key = dbutils.secrets.get(scope=\"stage_datamaster\", key=\"stage_datamaster_key\")\n",
    "\n",
    "# Autenticar\n",
    "autenticator(storage_account_key, logger)\n",
    "\n",
    "container = dbutils.widgets.get(\"param1\")\n",
    "table = dbutils.widgets.get(\"param2\")\n",
    "dat_carga_origin = dbutils.widgets.get(\"param3\")\n",
    "\n",
    "logger.info(f\"Container: {container}\")\n",
    "logger.info(f\"Table: {table}\")\n",
    "logger.info(f\"Dat Carga Origin: {dat_carga_origin}\")\n",
    "\n",
    "path = f\"abfss://{container}@{storage_account_name}.dfs.core.windows.net/table_ingestion_files/{table}/{dat_carga_origin}\"\n",
    "\n",
    "# Listar e apagar arquivos\n",
    "list_and_delete_files(container, storage_account_name, path, logger)"
   ]
  }
 ],
 "metadata": {
  "application/vnd.databricks.v1+notebook": {
   "computePreferences": null,
   "dashboards": [],
   "environmentMetadata": {
    "base_environment": "",
    "environment_version": "2"
   },
   "inputWidgetPreferences": null,
   "language": "python",
   "notebookMetadata": {
    "pythonIndentUnit": 4
   },
   "notebookName": "expurgo_stage",
   "widgets": {}
  },
  "language_info": {
   "name": "python"
  }
 },
 "nbformat": 4,
 "nbformat_minor": 0
}
